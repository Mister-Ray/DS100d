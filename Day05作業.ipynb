{
 "cells": [
  {
   "cell_type": "code",
   "execution_count": 3,
   "metadata": {},
   "outputs": [],
   "source": [
    "import numpy as np"
   ]
  },
  {
   "cell_type": "code",
   "execution_count": 6,
   "metadata": {},
   "outputs": [],
   "source": [
    "e = np.array([55,89,76,65,48,70])\n",
    "\n",
    "m = np.array([60,85,60,68,np.nan,60])\n",
    "\n",
    "c = np.array([65,90,82,72,66,77])"
   ]
  },
  {
   "cell_type": "code",
   "execution_count": 7,
   "metadata": {},
   "outputs": [
    {
     "name": "stdout",
     "output_type": "stream",
     "text": [
      "67.16666666666667\n",
      "66.6\n",
      "75.33333333333333\n"
     ]
    }
   ],
   "source": [
    "em = np.nanmean(e)\n",
    "mm = np.nanmean(m)\n",
    "cm = np.nanmean(c)\n",
    "\n",
    "print(em)\n",
    "print(mm)\n",
    "print(cm)"
   ]
  },
  {
   "cell_type": "code",
   "execution_count": 9,
   "metadata": {},
   "outputs": [
    {
     "name": "stdout",
     "output_type": "stream",
     "text": [
      "89\n",
      "85.0\n",
      "90\n"
     ]
    }
   ],
   "source": [
    "emax = np.nanmax(e)\n",
    "mmax = np.nanmax(m)\n",
    "cmax = np.nanmax(c)\n",
    "\n",
    "print(emax)\n",
    "print(mmax)\n",
    "print(cmax)"
   ]
  },
  {
   "cell_type": "code",
   "execution_count": 10,
   "metadata": {},
   "outputs": [
    {
     "name": "stdout",
     "output_type": "stream",
     "text": [
      "48\n",
      "60.0\n",
      "65\n"
     ]
    }
   ],
   "source": [
    "emin = np.nanmin(e)\n",
    "mmin = np.nanmin(m)\n",
    "cmin = np.nanmin(c)\n",
    "\n",
    "print(emin)\n",
    "print(mmin)\n",
    "print(cmin)"
   ]
  },
  {
   "cell_type": "code",
   "execution_count": 12,
   "metadata": {},
   "outputs": [
    {
     "name": "stdout",
     "output_type": "stream",
     "text": [
      "13.433995020924426\n",
      "9.707728879609279\n",
      "8.825468196582484\n"
     ]
    }
   ],
   "source": [
    "es = np.std(e)\n",
    "ms = np.nanstd(m)\n",
    "cs = np.std(c)\n",
    "\n",
    "print(es)\n",
    "print(ms)\n",
    "print(cs)"
   ]
  },
  {
   "cell_type": "code",
   "execution_count": 13,
   "metadata": {},
   "outputs": [
    {
     "name": "stdout",
     "output_type": "stream",
     "text": [
      "64.66666666666667\n",
      "85\n",
      "55\n",
      "9.860132971832694\n"
     ]
    }
   ],
   "source": [
    "mn = np.array([60,85,60,68,55,60])\n",
    "\n",
    "mnm = np.nanmean(mn)\n",
    "mnmax = np.nanmax(mn)\n",
    "mnmin = np.nanmin(mn)\n",
    "mns = np.nanstd(mn)\n",
    "\n",
    "print(mnm)\n",
    "print(mnmax)\n",
    "print(mnmin)\n",
    "print(mns)"
   ]
  },
  {
   "cell_type": "code",
   "execution_count": null,
   "metadata": {},
   "outputs": [],
   "source": []
  }
 ],
 "metadata": {
  "kernelspec": {
   "display_name": "Python 3",
   "language": "python",
   "name": "python3"
  },
  "language_info": {
   "codemirror_mode": {
    "name": "ipython",
    "version": 3
   },
   "file_extension": ".py",
   "mimetype": "text/x-python",
   "name": "python",
   "nbconvert_exporter": "python",
   "pygments_lexer": "ipython3",
   "version": "3.8.5"
  }
 },
 "nbformat": 4,
 "nbformat_minor": 4
}
